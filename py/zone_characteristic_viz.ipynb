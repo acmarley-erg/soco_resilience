{
 "cells": [
  {
   "cell_type": "markdown",
   "metadata": {},
   "source": [
    "## Create vegetation and land use type maps for each ecoregion"
   ]
  },
  {
   "cell_type": "code",
   "execution_count": 2,
   "metadata": {},
   "outputs": [],
   "source": [
    "%load_ext autoreload\n",
    "%autoreload 2"
   ]
  },
  {
   "cell_type": "code",
   "execution_count": 8,
   "metadata": {},
   "outputs": [],
   "source": [
    "#import libraries\n",
    "import pandas as pd\n",
    "import geopandas as gpd\n",
    "import numpy as np\n",
    "import matplotlib.pyplot as plt\n",
    "from matplotlib.colors import ListedColormap\n",
    "import util\n",
    "from tqdm import tqdm"
   ]
  },
  {
   "cell_type": "code",
   "execution_count": 3,
   "metadata": {},
   "outputs": [],
   "source": [
    "#path to clean data folder\n",
    "clean_data = \"../data/clean/\"\n",
    "raw_data = \"../data/raw/\"\n",
    "\n",
    "# Administrative boundaries\n",
    "soco_bound = gpd.read_file(clean_data + \"sonoma_county_boundary/sonoma_county_boundary.shp\")\n",
    "ca_state = gpd.read_file(clean_data + \"ca_state_boundary/ca_state_boundary.shp\")\n",
    "\n",
    "# Sonoma Veg\n",
    "sonoma_veg_simp = gpd.read_file(clean_data + \"sonoma_veg/sonoma_veg.shp\")\n",
    "sonoma_veg_percs = pd.read_csv(clean_data + \"simple_veg_all.csv\")\n",
    "\n",
    "# CA EPA eco regions\n",
    "ecoregions = gpd.read_file(clean_data + \"soco_ecoregion_l4/soco_ecoregion_l4.shp\")\n",
    "\n",
    "# Land use \n",
    "landuse = gpd.read_file(raw_data + \"soco_landuse/soco_landuse.shp\") "
   ]
  },
  {
   "cell_type": "code",
   "execution_count": 4,
   "metadata": {},
   "outputs": [],
   "source": [
    "# clean the data\n",
    "ecoregions_simp = util.simplify_ecoregions(ecoregions)\n",
    "soco_bound = soco_bound.to_crs(epsg=2226)\n",
    "ca_state = ca_state.to_crs(epsg=2226)\n",
    "landuse_simp = util.longname_landuse(landuse)"
   ]
  },
  {
   "cell_type": "markdown",
   "metadata": {},
   "source": [
    "## MAPS"
   ]
  },
  {
   "cell_type": "code",
   "execution_count": null,
   "metadata": {},
   "outputs": [],
   "source": [
    "# map of all ecoregions\n",
    "# Get the extent of the eoi for mapping\n",
    "xlim = ([ecoregions_simp.total_bounds[0] - 0.009e6,  ecoregions_simp.total_bounds[2] +  0.009e6])\n",
    "ylim = ([ecoregions_simp.total_bounds[1] - 0.009e6,  ecoregions_simp.total_bounds[3] +  0.009e6])\n",
    "\n",
    "# plot\n",
    "fig, ax = plt.subplots(figsize=(15,15))\n",
    "ca_state.plot(ax=ax, edgecolor = \"grey\", color = \"#e2e2e2\")\n",
    "soco_bound.plot(ax=ax, edgecolor = \"black\", color = \"None\")\n",
    "ecoregions_simp.plot(ax=ax, column = \"l4_simple\")\n",
    "ax.set_xlim(xlim)\n",
    "ax.set_ylim(ylim)\n",
    "ax.set_xticks([])\n",
    "ax.set_yticks([])\n",
    "ax.set_facecolor('#add8e6')\n",
    "ax"
   ]
  },
  {
   "cell_type": "code",
   "execution_count": 8,
   "metadata": {},
   "outputs": [],
   "source": [
    "# Function to map the ecoregions\n",
    "from typing import Union, Dict\n",
    "def map_ecoregion_char(ecoregions: gpd.GeoDataFrame, characteristic: gpd.GeoDataFrame, which_eoi: str, cmap: Union[ListedColormap, Dict[str, str]], column: str):\n",
    "\n",
    "    \"\"\"Map each ecoregion characteristic\n",
    "\n",
    "    Args:\n",
    "        ecoregions (gpd.GeoDataFrame): shapefile of the ecoregions\n",
    "        characteristic (gpd.GeoDataFrame): shapefile of vegetation types or landuse or other ecoregion characteristic\n",
    "        which_eoi (str): The name of the ecoregion to run the function on\n",
    "        cmap (ListedColormap): The color map to use \n",
    "\n",
    "    Returns:\n",
    "        fig, ax: The figure \n",
    "    \"\"\"\n",
    "\n",
    "    # Get the eco region of of interest\n",
    "    eoi = ecoregions[ecoregions[\"l4_simple\"]==which_eoi]\n",
    "\n",
    "    # intersect the veg map and the ecoregion of interest\n",
    "    eoi_intersect = gpd.overlay(characteristic, eoi, how='intersection')\n",
    "\n",
    "    # Get the extent of the eoi for mapping\n",
    "    xlim = ([eoi.total_bounds[0] - 0.009e6,  eoi.total_bounds[2] +  0.009e6])\n",
    "    ylim = ([eoi.total_bounds[1] - 0.009e6,  eoi.total_bounds[3] +  0.009e6])\n",
    "\n",
    "    # plot the simplified sonoma veg data\n",
    "    fig, ax = plt.subplots(figsize=(15,15))\n",
    "    ca_state.plot(ax=ax, edgecolor = \"grey\", color = \"#e2e2e2\")\n",
    "\n",
    "    if isinstance(cmap, dict):\n",
    "        cmap = ListedColormap([cmap[x] for x in sorted(eoi_intersect[column].unique())])\n",
    "\n",
    "    eoi_intersect.plot(ax=ax, column = column, cmap=cmap, legend = True)\n",
    "    soco_bound.plot(ax=ax, edgecolor = \"black\", color = \"None\")\n",
    "    ecoregions_simp.plot(ax=ax, edgecolor = \"black\", color = \"None\")\n",
    "    ax.set_xlim(xlim)\n",
    "    ax.set_ylim(ylim)\n",
    "    ax.set_xticks([])\n",
    "    ax.set_yticks([])\n",
    "    ax.set_facecolor('#add8e6')\n",
    "    return fig, ax "
   ]
  },
  {
   "cell_type": "code",
   "execution_count": null,
   "metadata": {},
   "outputs": [],
   "source": [
    "# create list of ecoregions for looping through\n",
    "ecoregion_list = ecoregions_simp.l4_simple.unique()"
   ]
  },
  {
   "cell_type": "markdown",
   "metadata": {},
   "source": [
    "#### Sonoma Veg"
   ]
  },
  {
   "cell_type": "code",
   "execution_count": 12,
   "metadata": {},
   "outputs": [],
   "source": [
    "# set the simplified veg map colors\n",
    "colors = [\"peru\", \"blue\", \"red\", \"grey\", \"green\", \"bisque\", \"yellow\"]\n",
    "veg_cmap=ListedColormap(colors)"
   ]
  },
  {
   "cell_type": "code",
   "execution_count": null,
   "metadata": {},
   "outputs": [],
   "source": [
    "# loop through the ecoregions to create the veg map maps\n",
    "for eco in tqdm(ecoregion_list):\n",
    "    fig, _ = map_ecoregion_char(ecoregions_simp, sonoma_veg_simp, eco, veg_cmap, \"natural_si\")\n",
    "    snake_case_eco = eco.lower().replace(\" \", \"_\").replace(\"/\", \"_\").replace(\"-\", \"_\")\n",
    "    fig.savefig(f\"../output/maps/{snake_case_eco}_veg.png\", dpi=350)"
   ]
  },
  {
   "cell_type": "markdown",
   "metadata": {},
   "source": [
    "#### Landuse"
   ]
  },
  {
   "cell_type": "code",
   "execution_count": 10,
   "metadata": {},
   "outputs": [],
   "source": [
    "# landuse colors\n",
    "landuse_colors = {\n",
    "\"Diverse Agriculture\": \"#7b5836\",\n",
    "\"General Commercial\": \"#ff6600\",\n",
    "\"General Industrial\": \"#fbc312\",\n",
    "\"Limited Commercial\": \"#ffaf7a\",\n",
    "\"Land Extensive Agriculture\": \"#D2B48C\",\n",
    "\"Limited Industrial\": \"#fcfc64\",\n",
    "\"Land Intensive Agriculture\": \"#422a14\",\n",
    "\"Public / Quasi-public\": \"#006a4e\",\n",
    "\"Rural Residential\": \"#80a3d8\",\n",
    "\"Resources and Rural Development\": \"#6Eb440\",\n",
    "\"Recreation and Visitor Serving Commercial\": \"#E79796\",\n",
    "\"Urban Residential\": \"#1167b1\"\n",
    "}"
   ]
  },
  {
   "cell_type": "code",
   "execution_count": null,
   "metadata": {},
   "outputs": [],
   "source": [
    "from matplotlib.colors import ListedColormap\n",
    "land_cmap = ListedColormap([landuse_colors[x] for x in sorted(landuse_simp.landuse.unique())])\n",
    "landuse_simp.plot(column = \"landuse\", figsize=(15,15), cmap=land_cmap, legend = True)"
   ]
  },
  {
   "cell_type": "code",
   "execution_count": null,
   "metadata": {},
   "outputs": [],
   "source": [
    "from tqdm import tqdm\n",
    "# loop through the ecoregions to create the landuse maps\n",
    "for eco in tqdm(ecoregion_list):\n",
    "    fig, _ = map_ecoregion_char(ecoregions_simp, landuse_simp, eco, landuse_colors, \"landuse\")\n",
    "    snake_case_eco = eco.lower().replace(\" \", \"_\").replace(\"/\", \"_\").replace(\"-\", \"_\")\n",
    "    fig.savefig(f\"../output/maps/{snake_case_eco}_landuse.png\", dpi=350)"
   ]
  },
  {
   "cell_type": "markdown",
   "metadata": {},
   "source": [
    "## PIE CHARTS"
   ]
  },
  {
   "cell_type": "code",
   "execution_count": 15,
   "metadata": {},
   "outputs": [],
   "source": [
    "# Create pie plot\n",
    "from matplotlib.colors import ListedColormap\n",
    "def make_zone_piechart(ecoregion_char, which_eoi:str, value:str, label:str, colors):\n",
    "       # filter to an ecoregion\n",
    "       ecoregion_char = ecoregion_char[ecoregion_char[\"ecoregion\"]==which_eoi]\n",
    "\n",
    "       # set the simplified veg map colors\n",
    "       colors = colors\n",
    "       cmap=ListedColormap(colors)\n",
    "       pie_colors = cmap(np.linspace(0., 1., len(ecoregion_char[value])))\n",
    "\n",
    "       # Make pie chart\n",
    "       fig, ax = plt.subplots(figsize=(10,10))\n",
    "       ax.pie(sorted(ecoregion_char[value]), colors = pie_colors,\n",
    "              wedgeprops={'linewidth': 2.0, 'edgecolor': 'white'}, textprops={'size': 'x-large'}) #autopct='%1.1f%%', labels=ecoregion_char['lifeform+perc']\n",
    "       ax.axis('equal') \n",
    "       ax.legend(labels = ecoregion_char[label], bbox_to_anchor=(0,1),fontsize=20)\n",
    "       return fig, ax"
   ]
  },
  {
   "cell_type": "markdown",
   "metadata": {},
   "source": [
    "#### Sonoma Veg"
   ]
  },
  {
   "cell_type": "code",
   "execution_count": 14,
   "metadata": {},
   "outputs": [
    {
     "data": {
      "text/plain": [
       "array(['Bay Flats', 'Bodega Coastal Hills',\n",
       "       'Coastal Franciscan Redwood Forest',\n",
       "       'Fort Bragg/Fort Ross Terraces', 'Mayacmas Mountains',\n",
       "       'Napa-Sonoma-Lake Volcanic Highlands',\n",
       "       'Napa-Sonoma-Russian River Valleys',\n",
       "       'North Coast Range Eastern Slopes',\n",
       "       'Sonoma-Mendocino Mixed Forest'], dtype=object)"
      ]
     },
     "execution_count": 14,
     "metadata": {},
     "output_type": "execute_result"
    }
   ],
   "source": [
    "# variables for iterating over\n",
    "ecoregion_list = sonoma_veg_percs.ecoregion.unique()\n",
    "veg_cols = [\"peru\", \"blue\", \"red\", \"grey\", \"green\", \"bisque\", \"yellow\"]"
   ]
  },
  {
   "cell_type": "code",
   "execution_count": null,
   "metadata": {},
   "outputs": [],
   "source": [
    "# for loop to make and save a pie chart for every ecoregion\n",
    "for eco in tqdm(ecoregion_list):\n",
    "    fig, _ = make_zone_piechart(sonoma_veg_percs, eco, \"percent_of_ecoregion\", \"lifeform+perc\", veg_cols)\n",
    "    snake_case_eco = eco.lower().replace(\" \", \"_\").replace(\"/\", \"_\").replace(\"-\", \"_\")\n",
    "    fig.savefig(f\"../output/graphs/{snake_case_eco}_veg_pie.png\", dpi=350)"
   ]
  },
  {
   "cell_type": "markdown",
   "metadata": {},
   "source": [
    "#### Landuse"
   ]
  },
  {
   "cell_type": "code",
   "execution_count": null,
   "metadata": {},
   "outputs": [],
   "source": []
  },
  {
   "cell_type": "markdown",
   "metadata": {},
   "source": [
    "scratch:"
   ]
  },
  {
   "cell_type": "code",
   "execution_count": null,
   "metadata": {},
   "outputs": [],
   "source": [
    "## Scratch ###\n",
    "veg_top_5 = zones_veg_nat_top[[\"ecoregion\", \"natural_lifeform\"]]\n",
    "veg_top_5[[\"top\"]] = \"top_5\"\n",
    "veg_top_5.head()\n",
    "\n",
    "# identify what vegetation types are the 5 most common\n",
    "tester = zones_veg_nat.merge(veg_top_5, how='left', on = ['ecoregion', \"natural_lifeform\"])\n",
    "tester[\"natural_lifeform_fix\"] = np.select([tester['top']=='top_5'], [tester['natural_lifeform']], ['other'])\n",
    "tester.head()"
   ]
  }
 ],
 "metadata": {
  "interpreter": {
   "hash": "03680d369dc9fbd127417f843df26571ab02632042c300f98ecedaf539164467"
  },
  "kernelspec": {
   "display_name": "Python 3.9.7 ('spatialds')",
   "language": "python",
   "name": "python3"
  },
  "language_info": {
   "codemirror_mode": {
    "name": "ipython",
    "version": 3
   },
   "file_extension": ".py",
   "mimetype": "text/x-python",
   "name": "python",
   "nbconvert_exporter": "python",
   "pygments_lexer": "ipython3",
   "version": "3.9.7"
  },
  "orig_nbformat": 4
 },
 "nbformat": 4,
 "nbformat_minor": 2
}
