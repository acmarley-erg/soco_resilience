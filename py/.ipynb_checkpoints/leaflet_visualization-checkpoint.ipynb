{
 "cells": [
  {
   "cell_type": "markdown",
   "metadata": {},
   "source": [
    "# Leaflet widget to visualize sonoma county layers"
   ]
  },
  {
   "cell_type": "code",
   "execution_count": 1,
   "metadata": {},
   "outputs": [],
   "source": [
    "from ipyleaflet import (Map, GeoData, basemaps, WidgetControl, GeoJSON,\n",
    "                        LayersControl, Icon, Marker,basemap_to_tiles, Choropleth,\n",
    "                        MarkerCluster, Heatmap,SearchControl, \n",
    "                        FullScreenControl)\n",
    "\n",
    "from ipywidgets import Text, HTML\n",
    "from branca.colormap import linear\n",
    "import geopandas as gpd\n",
    "import json"
   ]
  },
  {
   "cell_type": "code",
   "execution_count": 2,
   "metadata": {},
   "outputs": [],
   "source": [
    "# Administrative boundaries\n",
    "soco_bound = gpd.read_file(\"../data/clean/sonoma_county_boundary/sonoma_county_boundary.shp\")\n",
    "\n",
    "# read in VL data\n",
    "croplands = gpd.read_file(\"../data/raw/Vital_Lands_Data_Package/VLI_Priority_Ag_Croplands.shp\")\n",
    "grazinglands = gpd.read_file(\"../data/raw/Vital_Lands_Data_Package/VLI_Priority_Ag_Grazing_Land.shp\")\n",
    "\n",
    "# read in hazard data\n",
    "flood_plains = gpd.read_file(\"../data/clean/flood_awareness_areas/flood_awareness_areas.shp\")"
   ]
  },
  {
   "cell_type": "code",
   "execution_count": 3,
   "metadata": {},
   "outputs": [],
   "source": [
    "# Reproject layers"
   ]
  },
  {
   "cell_type": "code",
   "execution_count": 7,
   "metadata": {},
   "outputs": [
    {
     "data": {
      "application/vnd.jupyter.widget-view+json": {
       "model_id": "329e1c261c0a4752a0a0ddc50326ec61",
       "version_major": 2,
       "version_minor": 0
      },
      "text/plain": [
       "Map(center=[38.53913449187281, -122.89398184798168], controls=(ZoomControl(options=['position', 'zoom_in_text'…"
      ]
     },
     "metadata": {},
     "output_type": "display_data"
    }
   ],
   "source": [
    "center = [38.53913449187281, -122.89398184798168]\n",
    "zoom = 12\n",
    "\n",
    "m = Map(basemap=basemaps.Esri.WorldImagery, center=center, zoom=zoom)\n",
    "m"
   ]
  },
  {
   "cell_type": "code",
   "execution_count": null,
   "metadata": {},
   "outputs": [],
   "source": [
    "croplands_lf = GeoData(geo_dataframe = croplands, \n",
    "                   style={'color': 'black', 'fillColor': '#E0D071', 'opacity':0.03, 'weight':1.9, 'dashArray':'2', 'fillOpacity':0.6},\n",
    "                   hover_style={'fillColor': '#b08a3e' , 'fillOpacity': 0.8},\n",
    "                   name = 'Countries')\n",
    "\n",
    "\n",
    "africaMap.add_layer(geodata)"
   ]
  }
 ],
 "metadata": {
  "interpreter": {
   "hash": "03680d369dc9fbd127417f843df26571ab02632042c300f98ecedaf539164467"
  },
  "kernelspec": {
   "display_name": "Python 3.9.7 ('spatialds')",
   "language": "python",
   "name": "python3"
  },
  "language_info": {
   "codemirror_mode": {
    "name": "ipython",
    "version": 3
   },
   "file_extension": ".py",
   "mimetype": "text/x-python",
   "name": "python",
   "nbconvert_exporter": "python",
   "pygments_lexer": "ipython3",
   "version": "3.9.7"
  },
  "orig_nbformat": 4
 },
 "nbformat": 4,
 "nbformat_minor": 2
}
