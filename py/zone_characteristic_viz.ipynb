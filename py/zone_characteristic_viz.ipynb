{
 "cells": [
  {
   "cell_type": "markdown",
   "metadata": {},
   "source": [
    "## Create vegetation and land use type maps for each ecoregion"
   ]
  },
  {
   "cell_type": "code",
   "execution_count": 1,
   "metadata": {},
   "outputs": [],
   "source": [
    "%load_ext autoreload\n",
    "%autoreload 2"
   ]
  },
  {
   "cell_type": "code",
   "execution_count": 2,
   "metadata": {},
   "outputs": [],
   "source": [
    "#import libraries\n",
    "import pandas as pd\n",
    "import geopandas as gpd\n",
    "import numpy as np\n",
    "import matplotlib.pyplot as plt\n",
    "from matplotlib.colors import ListedColormap\n",
    "import util\n",
    "from tqdm import tqdm"
   ]
  },
  {
   "cell_type": "code",
   "execution_count": 3,
   "metadata": {},
   "outputs": [],
   "source": [
    "#path to clean data folder\n",
    "clean_data = \"../data/clean/\"\n",
    "raw_data = \"../data/raw/\"\n",
    "\n",
    "# Administrative boundaries\n",
    "soco_bound = gpd.read_file(clean_data + \"sonoma_county_boundary/sonoma_county_boundary.shp\")\n",
    "ca_state = gpd.read_file(clean_data + \"ca_state_boundary/ca_state_boundary.shp\")\n",
    "\n",
    "# Sonoma Veg\n",
    "sonoma_veg_simp = gpd.read_file(clean_data + \"sonoma_veg/sonoma_veg.shp\")\n",
    "sonoma_veg_percs = pd.read_csv(clean_data + \"simple_veg_all.csv\")\n",
    "\n",
    "# CA EPA eco regions\n",
    "ecoregions = gpd.read_file(clean_data + \"soco_ecoregion_l4/soco_ecoregion_l4.shp\")\n",
    "\n",
    "# Land use \n",
    "landuse = gpd.read_file(raw_data + \"soco_landuse/soco_landuse.shp\") \n",
    "landuse_percs = pd.read_csv(clean_data + \"landuse_all.csv\")\n",
    "protected_ag = gpd.read_file(raw_data + \"Vital_Lands_Data_Package/Base_Protected_Lands_Ag_Open_Space.shp\") \n",
    "protected_cced = gpd.read_file(raw_data + \"Vital_Lands_Data_Package/Base_Protected_Lands_CCED_2021b.shp\").to_crs(epsg=2226)\n",
    "protected_cpad = gpd.read_file(raw_data + \"Vital_Lands_Data_Package/Base_Protected_Lands_CPAD_2021b_Holdings.shp\").to_crs(epsg=2226)\n",
    "urban_growth_boundaries = gpd.read_file(raw_data + \"Vital_Lands_Data_Package/Base_Urban_Growth_Boundary.shp\") \n",
    "\n",
    "# Critical Facilities\n",
    "crit_facili = pd.read_csv(clean_data + \"critical_facilities_stats.csv\")"
   ]
  },
  {
   "cell_type": "code",
   "execution_count": 4,
   "metadata": {},
   "outputs": [],
   "source": [
    "# clean the data\n",
    "ecoregions_simp = util.simplify_ecoregions(ecoregions)\n",
    "soco_bound = soco_bound.to_crs(epsg=2226)\n",
    "ca_state = ca_state.to_crs(epsg=2226)\n",
    "landuse_simp = util.longname_landuse(landuse)"
   ]
  },
  {
   "cell_type": "code",
   "execution_count": 21,
   "metadata": {},
   "outputs": [
    {
     "data": {
      "text/html": [
       "<div>\n",
       "<style scoped>\n",
       "    .dataframe tbody tr th:only-of-type {\n",
       "        vertical-align: middle;\n",
       "    }\n",
       "\n",
       "    .dataframe tbody tr th {\n",
       "        vertical-align: top;\n",
       "    }\n",
       "\n",
       "    .dataframe thead th {\n",
       "        text-align: right;\n",
       "    }\n",
       "</style>\n",
       "<table border=\"1\" class=\"dataframe\">\n",
       "  <thead>\n",
       "    <tr style=\"text-align: right;\">\n",
       "      <th></th>\n",
       "      <th>l4_simple</th>\n",
       "      <th>geometry</th>\n",
       "      <th>ecoregion_acres</th>\n",
       "    </tr>\n",
       "  </thead>\n",
       "  <tbody>\n",
       "    <tr>\n",
       "      <th>0</th>\n",
       "      <td>Bay Flats</td>\n",
       "      <td>POLYGON ((6457375.369 1839801.158, 6458101.666...</td>\n",
       "      <td>31771.799491</td>\n",
       "    </tr>\n",
       "    <tr>\n",
       "      <th>1</th>\n",
       "      <td>Bodega Coastal Hills</td>\n",
       "      <td>POLYGON ((6381082.225 1827591.674, 6379446.296...</td>\n",
       "      <td>89797.513014</td>\n",
       "    </tr>\n",
       "    <tr>\n",
       "      <th>2</th>\n",
       "      <td>Coastal Franciscan Redwood Forest</td>\n",
       "      <td>POLYGON ((6199279.568 2057083.727, 6199127.431...</td>\n",
       "      <td>243527.483252</td>\n",
       "    </tr>\n",
       "    <tr>\n",
       "      <th>3</th>\n",
       "      <td>Fort Bragg/Fort Ross Terraces</td>\n",
       "      <td>POLYGON ((6221139.364 1943186.149, 6221063.459...</td>\n",
       "      <td>24037.249709</td>\n",
       "    </tr>\n",
       "    <tr>\n",
       "      <th>4</th>\n",
       "      <td>Mayacmas Mountains</td>\n",
       "      <td>POLYGON ((6343961.902 2057904.155, 6344919.458...</td>\n",
       "      <td>128342.895678</td>\n",
       "    </tr>\n",
       "    <tr>\n",
       "      <th>5</th>\n",
       "      <td>Napa-Sonoma-Lake Volcanic Highlands</td>\n",
       "      <td>MULTIPOLYGON (((6400682.635 1951591.530, 64002...</td>\n",
       "      <td>124652.598843</td>\n",
       "    </tr>\n",
       "    <tr>\n",
       "      <th>6</th>\n",
       "      <td>Napa-Sonoma-Russian River Valleys</td>\n",
       "      <td>POLYGON ((6271934.334 2073471.832, 6272744.838...</td>\n",
       "      <td>223194.335469</td>\n",
       "    </tr>\n",
       "    <tr>\n",
       "      <th>7</th>\n",
       "      <td>North Coast Range Eastern Slopes</td>\n",
       "      <td>POLYGON ((6405821.549 1950568.891, 6405646.612...</td>\n",
       "      <td>13105.525900</td>\n",
       "    </tr>\n",
       "    <tr>\n",
       "      <th>8</th>\n",
       "      <td>Sonoma-Mendocino Mixed Forest</td>\n",
       "      <td>POLYGON ((6266516.907 2073767.225, 6267442.639...</td>\n",
       "      <td>138833.291177</td>\n",
       "    </tr>\n",
       "  </tbody>\n",
       "</table>\n",
       "</div>"
      ],
      "text/plain": [
       "                             l4_simple  \\\n",
       "0                            Bay Flats   \n",
       "1                 Bodega Coastal Hills   \n",
       "2    Coastal Franciscan Redwood Forest   \n",
       "3        Fort Bragg/Fort Ross Terraces   \n",
       "4                   Mayacmas Mountains   \n",
       "5  Napa-Sonoma-Lake Volcanic Highlands   \n",
       "6    Napa-Sonoma-Russian River Valleys   \n",
       "7     North Coast Range Eastern Slopes   \n",
       "8        Sonoma-Mendocino Mixed Forest   \n",
       "\n",
       "                                            geometry  ecoregion_acres  \n",
       "0  POLYGON ((6457375.369 1839801.158, 6458101.666...     31771.799491  \n",
       "1  POLYGON ((6381082.225 1827591.674, 6379446.296...     89797.513014  \n",
       "2  POLYGON ((6199279.568 2057083.727, 6199127.431...    243527.483252  \n",
       "3  POLYGON ((6221139.364 1943186.149, 6221063.459...     24037.249709  \n",
       "4  POLYGON ((6343961.902 2057904.155, 6344919.458...    128342.895678  \n",
       "5  MULTIPOLYGON (((6400682.635 1951591.530, 64002...    124652.598843  \n",
       "6  POLYGON ((6271934.334 2073471.832, 6272744.838...    223194.335469  \n",
       "7  POLYGON ((6405821.549 1950568.891, 6405646.612...     13105.525900  \n",
       "8  POLYGON ((6266516.907 2073767.225, 6267442.639...    138833.291177  "
      ]
     },
     "execution_count": 21,
     "metadata": {},
     "output_type": "execute_result"
    }
   ],
   "source": [
    "ecoregions_simp"
   ]
  },
  {
   "cell_type": "markdown",
   "metadata": {},
   "source": [
    "## MAPS"
   ]
  },
  {
   "cell_type": "code",
   "execution_count": null,
   "metadata": {},
   "outputs": [],
   "source": [
    "# map of all ecoregions\n",
    "# Get the extent of the eoi for mapping\n",
    "xlim = ([ecoregions_simp.total_bounds[0] - 0.009e6,  ecoregions_simp.total_bounds[2] +  0.009e6])\n",
    "ylim = ([ecoregions_simp.total_bounds[1] - 0.009e6,  ecoregions_simp.total_bounds[3] +  0.009e6])\n",
    "\n",
    "# plot\n",
    "fig, ax = plt.subplots(figsize=(15,15))\n",
    "ca_state.plot(ax=ax, edgecolor = \"grey\", color = \"#e2e2e2\")\n",
    "soco_bound.plot(ax=ax, edgecolor = \"black\", color = \"None\")\n",
    "ecoregions_simp.plot(ax=ax, column = \"l4_simple\")\n",
    "ax.set_xlim(xlim)\n",
    "ax.set_ylim(ylim)\n",
    "ax.set_xticks([])\n",
    "ax.set_yticks([])\n",
    "ax.set_facecolor('#add8e6')\n",
    "ax"
   ]
  },
  {
   "cell_type": "code",
   "execution_count": 8,
   "metadata": {},
   "outputs": [],
   "source": [
    "# Function to map the ecoregions\n",
    "from typing import Union, Dict\n",
    "def map_ecoregion_char(ecoregions: gpd.GeoDataFrame, characteristic: gpd.GeoDataFrame, which_eoi: str, cmap: Union[ListedColormap, Dict[str, str]], column: str):\n",
    "\n",
    "    \"\"\"Map each ecoregion characteristic\n",
    "\n",
    "    Args:\n",
    "        ecoregions (gpd.GeoDataFrame): shapefile of the ecoregions\n",
    "        characteristic (gpd.GeoDataFrame): shapefile of vegetation types or landuse or other ecoregion characteristic\n",
    "        which_eoi (str): The name of the ecoregion to run the function on\n",
    "        cmap (ListedColormap): The color map to use \n",
    "\n",
    "    Returns:\n",
    "        fig, ax: The figure \n",
    "    \"\"\"\n",
    "\n",
    "    # Get the eco region of of interest\n",
    "    eoi = ecoregions[ecoregions[\"l4_simple\"]==which_eoi]\n",
    "\n",
    "    # intersect the veg map and the ecoregion of interest\n",
    "    eoi_intersect = gpd.overlay(characteristic, eoi, how='intersection')\n",
    "\n",
    "    # Get the extent of the eoi for mapping\n",
    "    xlim = ([eoi.total_bounds[0] - 0.009e6,  eoi.total_bounds[2] +  0.009e6])\n",
    "    ylim = ([eoi.total_bounds[1] - 0.009e6,  eoi.total_bounds[3] +  0.009e6])\n",
    "\n",
    "    # plot the simplified sonoma veg data\n",
    "    fig, ax = plt.subplots(figsize=(15,15))\n",
    "    ca_state.plot(ax=ax, edgecolor = \"grey\", color = \"#e2e2e2\")\n",
    "\n",
    "    if isinstance(cmap, dict):\n",
    "        cmap = ListedColormap([cmap[x] for x in sorted(eoi_intersect[column].unique())])\n",
    "\n",
    "    eoi_intersect.plot(ax=ax, column = column, cmap=cmap, legend = True)\n",
    "    soco_bound.plot(ax=ax, edgecolor = \"black\", color = \"None\")\n",
    "    ecoregions_simp.plot(ax=ax, edgecolor = \"black\", color = \"None\")\n",
    "    ax.set_xlim(xlim)\n",
    "    ax.set_ylim(ylim)\n",
    "    ax.set_xticks([])\n",
    "    ax.set_yticks([])\n",
    "    ax.set_facecolor('#add8e6')\n",
    "    return fig, ax "
   ]
  },
  {
   "cell_type": "code",
   "execution_count": 9,
   "metadata": {},
   "outputs": [],
   "source": [
    "# create list of ecoregions for looping through\n",
    "ecoregion_list = ecoregions_simp.l4_simple.unique()"
   ]
  },
  {
   "cell_type": "markdown",
   "metadata": {},
   "source": [
    "#### Sonoma Veg"
   ]
  },
  {
   "cell_type": "code",
   "execution_count": 12,
   "metadata": {},
   "outputs": [],
   "source": [
    "# set the simplified veg map colors\n",
    "colors = [\"peru\", \"blue\", \"red\", \"grey\", \"green\", \"bisque\", \"yellow\"]\n",
    "veg_cmap=ListedColormap(colors)"
   ]
  },
  {
   "cell_type": "code",
   "execution_count": null,
   "metadata": {},
   "outputs": [],
   "source": [
    "# loop through the ecoregions to create the veg map maps\n",
    "for eco in tqdm(ecoregion_list):\n",
    "    fig, _ = map_ecoregion_char(ecoregions_simp, sonoma_veg_simp, eco, veg_cmap, \"natural_si\")\n",
    "    snake_case_eco = eco.lower().replace(\" \", \"_\").replace(\"/\", \"_\").replace(\"-\", \"_\")\n",
    "    fig.savefig(f\"../output/maps/{snake_case_eco}_veg.png\", dpi=350)"
   ]
  },
  {
   "cell_type": "markdown",
   "metadata": {},
   "source": [
    "#### Landuse"
   ]
  },
  {
   "cell_type": "code",
   "execution_count": 5,
   "metadata": {},
   "outputs": [],
   "source": [
    "# landuse colors\n",
    "landuse_colors = {\n",
    "\"Diverse Agriculture\": \"#7b5836\",\n",
    "\"General Commercial\": \"#ff6600\",\n",
    "\"General Industrial\": \"#fbc312\",\n",
    "\"Limited Commercial\": \"#ffaf7a\",\n",
    "\"Land Extensive Agriculture\": \"#D2B48C\",\n",
    "\"Limited Industrial\": \"#fcfc64\",\n",
    "\"Land Intensive Agriculture\": \"#422a14\",\n",
    "\"Public / Quasi-public\": \"#006a4e\",\n",
    "\"Rural Residential\": \"#80a3d8\",\n",
    "\"Resources and Rural Development\": \"#6Eb440\",\n",
    "\"Recreation and Visitor Serving Commercial\": \"#E79796\",\n",
    "\"Urban Residential\": \"#1167b1\"\n",
    "}"
   ]
  },
  {
   "cell_type": "code",
   "execution_count": null,
   "metadata": {},
   "outputs": [],
   "source": [
    "from matplotlib.colors import ListedColormap\n",
    "land_cmap = ListedColormap([landuse_colors[x] for x in sorted(landuse_simp.landuse.unique())])\n",
    "landuse_simp.plot(column = \"landuse\", figsize=(15,15), cmap=land_cmap, legend = True)"
   ]
  },
  {
   "cell_type": "code",
   "execution_count": null,
   "metadata": {},
   "outputs": [],
   "source": [
    "from tqdm import tqdm\n",
    "# loop through the ecoregions to create the landuse maps\n",
    "for eco in tqdm(ecoregion_list):\n",
    "    fig, _ = map_ecoregion_char(ecoregions_simp, landuse_simp, eco, landuse_colors, \"landuse\")\n",
    "    snake_case_eco = eco.lower().replace(\" \", \"_\").replace(\"/\", \"_\").replace(\"-\", \"_\")\n",
    "    fig.savefig(f\"../output/maps/{snake_case_eco}_landuse.png\", dpi=350)"
   ]
  },
  {
   "cell_type": "code",
   "execution_count": null,
   "metadata": {},
   "outputs": [],
   "source": [
    "fig, ax = plt.subplots(figsize=(15,15))\n",
    "soco_bound.plot(ax=ax, edgecolor = \"black\", color = \"None\")\n",
    "#protected_ag.plot(ax=ax, column = \"Holding_Ow\", legend = True)\n",
    "#protected_cced.plot(ax=ax, column = \"eholdtyp\", legend = True)\n",
    "#protected_cpad.plot(ax=ax, column = \"AGNCY_LEV\", legend = True)\n",
    "urban_growth_boundaries.plot(ax=ax, column = \"NAME\", legend = True)\n",
    "ecoregions_simp.plot(ax=ax, edgecolor = \"black\", color = \"None\")\n",
    "ax.set_xticks([])\n",
    "ax.set_yticks([])\n",
    "fig.savefig(f\"../output/maps/urban_growth_boundaries_ecoregions.png\", dpi=350)"
   ]
  },
  {
   "cell_type": "markdown",
   "metadata": {},
   "source": [
    "## PIE CHARTS"
   ]
  },
  {
   "cell_type": "code",
   "execution_count": 16,
   "metadata": {},
   "outputs": [],
   "source": [
    "# Create pie plot\n",
    "from matplotlib.colors import ListedColormap\n",
    "def make_zone_piechart(ecoregion_char, which_eoi:str, value:str, label:str, colors):\n",
    "       # filter to an ecoregion\n",
    "       ecoregion_char = ecoregion_char[ecoregion_char[\"ecoregion\"]==which_eoi]\n",
    "\n",
    "       # set the simplified veg map colors\n",
    "       if isinstance(colors, dict):\n",
    "              cmap = ListedColormap([colors[x] for x in ecoregion_char[\"Haz_Catego\"].unique()])\n",
    "       else:\n",
    "              cmap=ListedColormap(colors)\n",
    "              \n",
    "       pie_colors = cmap(np.linspace(0., 1., len(ecoregion_char[value])))\n",
    "\n",
    "       # Make pie chart\n",
    "       fig, ax = plt.subplots(figsize=(10,10))\n",
    "       ax.pie(ecoregion_char[value], colors = pie_colors,\n",
    "              wedgeprops={'linewidth': 2.0, 'edgecolor': 'white'}, textprops={'size': 'x-large'}) #autopct='%1.1f%%', labels=ecoregion_char['lifeform+perc']\n",
    "       ax.axis('equal') \n",
    "       ax.legend(labels = ecoregion_char[label], bbox_to_anchor=(0,1),frameon=False, labelcolor = \"black\", prop = {'weight':'bold', 'size': 20})\n",
    "       return fig, ax"
   ]
  },
  {
   "cell_type": "markdown",
   "metadata": {},
   "source": [
    "#### Sonoma Veg"
   ]
  },
  {
   "cell_type": "code",
   "execution_count": 52,
   "metadata": {},
   "outputs": [],
   "source": [
    "# variables for iterating over\n",
    "ecoregion_list = sonoma_veg_percs.ecoregion.unique()\n",
    "veg_cols = [\"peru\", \"blue\", \"red\", \"grey\", \"green\", \"bisque\", \"yellow\"]"
   ]
  },
  {
   "cell_type": "code",
   "execution_count": null,
   "metadata": {},
   "outputs": [],
   "source": [
    "make_zone_piechart(sonoma_veg_percs, \"Bodega Coastal Hills\", \"acres\", \"lifeform+perc\", veg_cols)"
   ]
  },
  {
   "cell_type": "code",
   "execution_count": 55,
   "metadata": {},
   "outputs": [
    {
     "data": {
      "text/plain": [
       "array(['Bay Flats', 'Bodega Coastal Hills',\n",
       "       'Coastal Franciscan Redwood Forest',\n",
       "       'Fort Bragg/Fort Ross Terraces', 'Mayacmas Mountains',\n",
       "       'Napa-Sonoma-Lake Volcanic Highlands',\n",
       "       'Napa-Sonoma-Russian River Valleys',\n",
       "       'North Coast Range Eastern Slopes',\n",
       "       'Sonoma-Mendocino Mixed Forest'], dtype=object)"
      ]
     },
     "execution_count": 55,
     "metadata": {},
     "output_type": "execute_result"
    }
   ],
   "source": [
    "sonoma_veg_percs.ecoregion.unique()"
   ]
  },
  {
   "cell_type": "code",
   "execution_count": null,
   "metadata": {},
   "outputs": [],
   "source": [
    "# for loop to make and save a pie chart for every ecoregion\n",
    "for eco in tqdm(ecoregion_list):\n",
    "    fig, _ = make_zone_piechart(sonoma_veg_percs, eco, \"percent_of_ecoregion\", \"lifeform+perc\", veg_cols)\n",
    "    snake_case_eco = eco.lower().replace(\" \", \"_\").replace(\"/\", \"_\").replace(\"-\", \"_\")\n",
    "    fig.savefig(f\"../output/graphs/{snake_case_eco}_veg_pie_blck.png\", dpi=350)"
   ]
  },
  {
   "cell_type": "markdown",
   "metadata": {},
   "source": [
    "#### Landuse"
   ]
  },
  {
   "cell_type": "code",
   "execution_count": null,
   "metadata": {},
   "outputs": [],
   "source": [
    "# add landuse percentage columns and remove categories with less than 0.0 cover\n",
    "landuse_percs[\"perc_round\"] = landuse_percs['percent_of_ecoregion'].round(1)\n",
    "landuse_percs = landuse_percs[landuse_percs[\"perc_round\"] > 0.0]\n",
    "landuse_percs[\"landuse+perc\"] = landuse_percs['landuse'] + \" (\" + landuse[\"perc_round\"].astype(str) + \"%)\""
   ]
  },
  {
   "cell_type": "code",
   "execution_count": null,
   "metadata": {},
   "outputs": [],
   "source": [
    "# for loop to make and save a pie chart for every ecoregion\n",
    "for eco in tqdm(ecoregion_list):\n",
    "    fig, _ = make_zone_piechart(landuse_percs, eco, \"acres\", \"landuse+perc\", landuse_colors)\n",
    "    snake_case_eco = eco.lower().replace(\" \", \"_\").replace(\"/\", \"_\").replace(\"-\", \"_\")\n",
    "    fig.savefig(f\"../output/graphs/{snake_case_eco}_landuse_pie_blck.png\", dpi=350)"
   ]
  },
  {
   "cell_type": "markdown",
   "metadata": {},
   "source": [
    "#### Critical Facilities"
   ]
  },
  {
   "cell_type": "code",
   "execution_count": 31,
   "metadata": {},
   "outputs": [
    {
     "data": {
      "text/html": [
       "<div>\n",
       "<style scoped>\n",
       "    .dataframe tbody tr th:only-of-type {\n",
       "        vertical-align: middle;\n",
       "    }\n",
       "\n",
       "    .dataframe tbody tr th {\n",
       "        vertical-align: top;\n",
       "    }\n",
       "\n",
       "    .dataframe thead th {\n",
       "        text-align: right;\n",
       "    }\n",
       "</style>\n",
       "<table border=\"1\" class=\"dataframe\">\n",
       "  <thead>\n",
       "    <tr style=\"text-align: right;\">\n",
       "      <th></th>\n",
       "      <th>Unnamed: 0</th>\n",
       "      <th>ecoregion</th>\n",
       "      <th>Haz_Catego</th>\n",
       "      <th>counts</th>\n",
       "      <th>haz_category+number_facil</th>\n",
       "    </tr>\n",
       "  </thead>\n",
       "  <tbody>\n",
       "    <tr>\n",
       "      <th>0</th>\n",
       "      <td>0</td>\n",
       "      <td>Bay Flats</td>\n",
       "      <td>Communication</td>\n",
       "      <td>1</td>\n",
       "      <td>Communication (1)</td>\n",
       "    </tr>\n",
       "    <tr>\n",
       "      <th>1</th>\n",
       "      <td>1</td>\n",
       "      <td>Bay Flats</td>\n",
       "      <td>Energy</td>\n",
       "      <td>1</td>\n",
       "      <td>Energy (1)</td>\n",
       "    </tr>\n",
       "    <tr>\n",
       "      <th>2</th>\n",
       "      <td>2</td>\n",
       "      <td>Bay Flats</td>\n",
       "      <td>Food, Water, Shelter</td>\n",
       "      <td>3</td>\n",
       "      <td>Food, Water, Shelter (3)</td>\n",
       "    </tr>\n",
       "    <tr>\n",
       "      <th>3</th>\n",
       "      <td>3</td>\n",
       "      <td>Bay Flats</td>\n",
       "      <td>Hazardous Material</td>\n",
       "      <td>99</td>\n",
       "      <td>Hazardous Material (99)</td>\n",
       "    </tr>\n",
       "    <tr>\n",
       "      <th>4</th>\n",
       "      <td>4</td>\n",
       "      <td>Bay Flats</td>\n",
       "      <td>Safety and Security</td>\n",
       "      <td>3</td>\n",
       "      <td>Safety and Security (3)</td>\n",
       "    </tr>\n",
       "  </tbody>\n",
       "</table>\n",
       "</div>"
      ],
      "text/plain": [
       "   Unnamed: 0  ecoregion            Haz_Catego  counts  \\\n",
       "0           0  Bay Flats         Communication       1   \n",
       "1           1  Bay Flats                Energy       1   \n",
       "2           2  Bay Flats  Food, Water, Shelter       3   \n",
       "3           3  Bay Flats    Hazardous Material      99   \n",
       "4           4  Bay Flats   Safety and Security       3   \n",
       "\n",
       "  haz_category+number_facil  \n",
       "0         Communication (1)  \n",
       "1                Energy (1)  \n",
       "2  Food, Water, Shelter (3)  \n",
       "3   Hazardous Material (99)  \n",
       "4   Safety and Security (3)  "
      ]
     },
     "execution_count": 31,
     "metadata": {},
     "output_type": "execute_result"
    }
   ],
   "source": [
    "#crit_facili[\"haz_category+number_facil\"] = crit_facili[\"Haz_Catego\"] + \" (\" + crit_facili[\"counts\"].astype(str) + \")\"\n",
    "crit_facili = crit_facili.rename(columns = {\"l4_simple\": \"ecoregion\"})\n",
    "crit_facili.head()"
   ]
  },
  {
   "cell_type": "code",
   "execution_count": 30,
   "metadata": {},
   "outputs": [],
   "source": [
    "facility_colors = {\n",
    "    'Communication': \"#046C9A\",\n",
    "    'Energy': \"#F98400\",\n",
    "    'Food, Water, Shelter': \"#00A08A\",\n",
    "    'Hazardous Material': \"#FF0000\", \n",
    "    'Safety and Security': \"#D69C4E\", \n",
    "    'Transportation': \"#ECCBAE\",\n",
    "    'Health and Medical':  \"#ABDDDE\"\n",
    "}"
   ]
  },
  {
   "cell_type": "code",
   "execution_count": null,
   "metadata": {},
   "outputs": [],
   "source": [
    "make_zone_piechart(crit_facili, \"Bodega Coastal Hills\", \"counts\", \"haz_category+number_facil\", facility_colors)"
   ]
  },
  {
   "cell_type": "code",
   "execution_count": null,
   "metadata": {},
   "outputs": [],
   "source": [
    "ecoregion_list = crit_facili.ecoregion.unique()\n",
    "for eco in tqdm(ecoregion_list):\n",
    "    fig, _ = make_zone_piechart(crit_facili, eco, \"counts\", \"Haz_Catego\", facility_colors)\n",
    "    snake_case_eco = eco.lower().replace(\" \", \"_\").replace(\"/\", \"_\").replace(\"-\", \"_\")\n",
    "    fig.savefig(f\"../output/graphs/{snake_case_eco}_critical_facility_pie.png\", dpi=350)"
   ]
  },
  {
   "cell_type": "code",
   "execution_count": 4,
   "metadata": {},
   "outputs": [
    {
     "data": {
      "text/html": [
       "<div>\n",
       "<style scoped>\n",
       "    .dataframe tbody tr th:only-of-type {\n",
       "        vertical-align: middle;\n",
       "    }\n",
       "\n",
       "    .dataframe tbody tr th {\n",
       "        vertical-align: top;\n",
       "    }\n",
       "\n",
       "    .dataframe thead th {\n",
       "        text-align: right;\n",
       "    }\n",
       "</style>\n",
       "<table border=\"1\" class=\"dataframe\">\n",
       "  <thead>\n",
       "    <tr style=\"text-align: right;\">\n",
       "      <th></th>\n",
       "      <th>Unnamed: 0</th>\n",
       "      <th>l4_simple</th>\n",
       "      <th>Haz_Catego</th>\n",
       "      <th>counts</th>\n",
       "    </tr>\n",
       "  </thead>\n",
       "  <tbody>\n",
       "    <tr>\n",
       "      <th>0</th>\n",
       "      <td>0</td>\n",
       "      <td>Bay Flats</td>\n",
       "      <td>Communication</td>\n",
       "      <td>1</td>\n",
       "    </tr>\n",
       "    <tr>\n",
       "      <th>1</th>\n",
       "      <td>1</td>\n",
       "      <td>Bay Flats</td>\n",
       "      <td>Energy</td>\n",
       "      <td>1</td>\n",
       "    </tr>\n",
       "    <tr>\n",
       "      <th>2</th>\n",
       "      <td>2</td>\n",
       "      <td>Bay Flats</td>\n",
       "      <td>Food, Water, Shelter</td>\n",
       "      <td>3</td>\n",
       "    </tr>\n",
       "    <tr>\n",
       "      <th>3</th>\n",
       "      <td>3</td>\n",
       "      <td>Bay Flats</td>\n",
       "      <td>Hazardous Material</td>\n",
       "      <td>99</td>\n",
       "    </tr>\n",
       "    <tr>\n",
       "      <th>4</th>\n",
       "      <td>4</td>\n",
       "      <td>Bay Flats</td>\n",
       "      <td>Safety and Security</td>\n",
       "      <td>3</td>\n",
       "    </tr>\n",
       "  </tbody>\n",
       "</table>\n",
       "</div>"
      ],
      "text/plain": [
       "   Unnamed: 0  l4_simple            Haz_Catego  counts\n",
       "0           0  Bay Flats         Communication       1\n",
       "1           1  Bay Flats                Energy       1\n",
       "2           2  Bay Flats  Food, Water, Shelter       3\n",
       "3           3  Bay Flats    Hazardous Material      99\n",
       "4           4  Bay Flats   Safety and Security       3"
      ]
     },
     "execution_count": 4,
     "metadata": {},
     "output_type": "execute_result"
    }
   ],
   "source": [
    "crit_facili.head()"
   ]
  },
  {
   "cell_type": "markdown",
   "metadata": {},
   "source": [
    "scratch:"
   ]
  },
  {
   "cell_type": "code",
   "execution_count": null,
   "metadata": {},
   "outputs": [],
   "source": [
    "## Scratch ###\n",
    "veg_top_5 = zones_veg_nat_top[[\"ecoregion\", \"natural_lifeform\"]]\n",
    "veg_top_5[[\"top\"]] = \"top_5\"\n",
    "veg_top_5.head()\n",
    "\n",
    "# identify what vegetation types are the 5 most common\n",
    "tester = zones_veg_nat.merge(veg_top_5, how='left', on = ['ecoregion', \"natural_lifeform\"])\n",
    "tester[\"natural_lifeform_fix\"] = np.select([tester['top']=='top_5'], [tester['natural_lifeform']], ['other'])\n",
    "tester.head()"
   ]
  }
 ],
 "metadata": {
  "interpreter": {
   "hash": "03680d369dc9fbd127417f843df26571ab02632042c300f98ecedaf539164467"
  },
  "kernelspec": {
   "display_name": "Python 3.9.7 ('spatialds')",
   "language": "python",
   "name": "python3"
  },
  "language_info": {
   "codemirror_mode": {
    "name": "ipython",
    "version": 3
   },
   "file_extension": ".py",
   "mimetype": "text/x-python",
   "name": "python",
   "nbconvert_exporter": "python",
   "pygments_lexer": "ipython3",
   "version": "3.9.7"
  },
  "orig_nbformat": 4
 },
 "nbformat": 4,
 "nbformat_minor": 2
}
